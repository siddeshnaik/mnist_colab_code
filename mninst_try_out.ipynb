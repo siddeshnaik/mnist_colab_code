{
  "nbformat": 4,
  "nbformat_minor": 0,
  "metadata": {
    "colab": {
      "name": "mninst_try_out.ipynb",
      "provenance": [],
      "private_outputs": true,
      "collapsed_sections": []
    },
    "kernelspec": {
      "name": "python3",
      "display_name": "Python 3"
    }
  },
  "cells": [
    {
      "cell_type": "code",
      "metadata": {
        "id": "-qUb_JQgpTva",
        "colab_type": "code",
        "colab": {}
      },
      "source": [
        "#run in colab since i have used the defalut sample example of mnist in colab\n",
        "#if a part of a program is commented than there are some errors in the program\n",
        "import numpy as np\n",
        "import pandas as pd\n",
        "!pip install sklearn"
      ],
      "execution_count": null,
      "outputs": []
    },
    {
      "cell_type": "code",
      "metadata": {
        "id": "D3NWIDEHpuuQ",
        "colab_type": "code",
        "colab": {}
      },
      "source": [
        "from matplotlib import pyplot as plt \n",
        "from sklearn.ensemble import RandomForestClassifier\n",
        "from sklearn import tree \n",
        "from sklearn import naive_bayes\n",
        "from sklearn import neighbors\n",
        "from sklearn.model_selection import train_test_split\n",
        "%matplotlib inline"
      ],
      "execution_count": null,
      "outputs": []
    },
    {
      "cell_type": "code",
      "metadata": {
        "id": "ocpfInJft02U",
        "colab_type": "code",
        "colab": {}
      },
      "source": [
        "data=pd.read_csv(r\"/content/sample_data/mnist_train_small.csv\")"
      ],
      "execution_count": null,
      "outputs": []
    },
    {
      "cell_type": "code",
      "metadata": {
        "id": "3WVH_ZWeurE6",
        "colab_type": "code",
        "colab": {}
      },
      "source": [
        "data"
      ],
      "execution_count": null,
      "outputs": []
    },
    {
      "cell_type": "code",
      "metadata": {
        "id": "O6olBQE2usx8",
        "colab_type": "code",
        "colab": {}
      },
      "source": [
        "x=data.iloc[:,1:] # .values converts into a array instead of data frame\n",
        "x"
      ],
      "execution_count": null,
      "outputs": []
    },
    {
      "cell_type": "code",
      "metadata": {
        "id": "HG66p5_GxQN0",
        "colab_type": "code",
        "colab": {}
      },
      "source": [
        "y=data.iloc[:,:1]"
      ],
      "execution_count": null,
      "outputs": []
    },
    {
      "cell_type": "code",
      "metadata": {
        "id": "1WhyqSmlxleV",
        "colab_type": "code",
        "colab": {}
      },
      "source": [
        "y #storing all the lables in y variable"
      ],
      "execution_count": null,
      "outputs": []
    },
    {
      "cell_type": "code",
      "metadata": {
        "id": "etE3tVYSxmZg",
        "colab_type": "code",
        "colab": {}
      },
      "source": [
        "#displaying on images\n",
        "a=data.iloc[2,1:].values # .values makes it a array type datatype instead of data frame\n",
        "a"
      ],
      "execution_count": null,
      "outputs": []
    },
    {
      "cell_type": "code",
      "metadata": {
        "id": "2CMwWn7Lzmm9",
        "colab_type": "code",
        "colab": {}
      },
      "source": [
        "#now reshaping the pixle data to view it in matplotlib \n",
        "a=a.reshape(28,28).astype(\"uint8\")"
      ],
      "execution_count": null,
      "outputs": []
    },
    {
      "cell_type": "code",
      "metadata": {
        "id": "9jgQOByEz1SK",
        "colab_type": "code",
        "colab": {}
      },
      "source": [
        "#plotting\n",
        "plt.imshow(a)"
      ],
      "execution_count": null,
      "outputs": []
    },
    {
      "cell_type": "code",
      "metadata": {
        "id": "ThUgaKrmz4Iw",
        "colab_type": "code",
        "colab": {}
      },
      "source": [
        "#spliting data into train ,test data \n",
        "x_train,x_test,y_train,y_test = train_test_split(x,y,test_size = 0.2 ,random_state=4)"
      ],
      "execution_count": null,
      "outputs": []
    },
    {
      "cell_type": "code",
      "metadata": {
        "id": "f1L1zMnV02Kb",
        "colab_type": "code",
        "colab": {}
      },
      "source": [
        "x_train"
      ],
      "execution_count": null,
      "outputs": []
    },
    {
      "cell_type": "code",
      "metadata": {
        "id": "pSmp_9Yl030m",
        "colab_type": "code",
        "colab": {}
      },
      "source": [
        "y_train"
      ],
      "execution_count": null,
      "outputs": []
    },
    {
      "cell_type": "markdown",
      "metadata": {
        "id": "6ySUen8qp5sN",
        "colab_type": "text"
      },
      "source": [
        "# trying for \n",
        "- decision tree\n",
        "- naive bayes algorithm\n",
        "- k-nearest neighbor\n",
        "- random forest "
      ]
    },
    {
      "cell_type": "markdown",
      "metadata": {
        "id": "XxMiRtUnCZVS",
        "colab_type": "text"
      },
      "source": [
        "# modeling the randomforest classifier"
      ]
    },
    {
      "cell_type": "code",
      "metadata": {
        "id": "BNMVykAY06Xc",
        "colab_type": "code",
        "colab": {}
      },
      "source": [
        "# modeling the randomforest classifier\n",
        "rf=RandomForestClassifier(n_estimators=100)\n",
        "\n",
        "# fitting the model\n",
        "rf.fit(x_train,y_train)\n",
        "pred = rf.predict(x_test)\n",
        "print(pred)"
      ],
      "execution_count": null,
      "outputs": []
    },
    {
      "cell_type": "code",
      "metadata": {
        "id": "DE2XeQ2j1uAm",
        "colab_type": "code",
        "colab": {}
      },
      "source": [
        "print(y_test)"
      ],
      "execution_count": null,
      "outputs": []
    },
    {
      "cell_type": "code",
      "metadata": {
        "id": "KzER1-wq1xu9",
        "colab_type": "code",
        "colab": {}
      },
      "source": [
        "#cheking a random value\n",
        "print(\"lable:\",y_test.iloc[3])\n",
        "print(\"predicted value:\",pred[3])"
      ],
      "execution_count": null,
      "outputs": []
    },
    {
      "cell_type": "code",
      "metadata": {
        "id": "W3gxKHcB2ODf",
        "colab_type": "code",
        "colab": {}
      },
      "source": [
        "count = 0\n",
        "#checking predition accuracy\n",
        "a=y_test.values\n",
        "for i in range(len(x_test)):\n",
        "    if pred[i]==a[i]:\n",
        "        count=count+1\n",
        "\n",
        "acc = (count/len(x_test))*100\n",
        "print(\"accuracy:\",acc)"
      ],
      "execution_count": null,
      "outputs": []
    },
    {
      "cell_type": "markdown",
      "metadata": {
        "id": "s0xHW6zVCTCB",
        "colab_type": "text"
      },
      "source": [
        "#modeling with decision tree classifier\n"
      ]
    },
    {
      "cell_type": "code",
      "metadata": {
        "id": "d_MT9Wuy3rZE",
        "colab_type": "code",
        "colab": {}
      },
      "source": [
        "#modeling with decision tree classifier\n",
        "from sklearn import tree \n",
        "dt=tree.DecisionTreeClassifier()\n",
        "dt.fit(x_train,y_train)"
      ],
      "execution_count": null,
      "outputs": []
    },
    {
      "cell_type": "code",
      "metadata": {
        "id": "_YAqd3ZQ5VVm",
        "colab_type": "code",
        "colab": {}
      },
      "source": [
        "pred=dt.predict(x_test)"
      ],
      "execution_count": null,
      "outputs": []
    },
    {
      "cell_type": "code",
      "metadata": {
        "id": "IkFHva5D5jzf",
        "colab_type": "code",
        "colab": {}
      },
      "source": [
        "pred"
      ],
      "execution_count": null,
      "outputs": []
    },
    {
      "cell_type": "code",
      "metadata": {
        "id": "GHyssUXi7GcZ",
        "colab_type": "code",
        "colab": {}
      },
      "source": [
        "count = 0\n",
        "#checking predition accuracy\n",
        "a=y_test.values\n",
        "for i in range(len(x_test)):\n",
        "    if pred[i]==a[i]:\n",
        "        count=count+1\n",
        "\n",
        "acc = (count/len(x_test))*100\n",
        "print(\"accuracy:\",acc)"
      ],
      "execution_count": null,
      "outputs": []
    },
    {
      "cell_type": "markdown",
      "metadata": {
        "id": "VbJW77wgCqTP",
        "colab_type": "text"
      },
      "source": [
        "#naive bayes algorithm"
      ]
    },
    {
      "cell_type": "code",
      "metadata": {
        "id": "eOtuqrzA7NMK",
        "colab_type": "code",
        "colab": {}
      },
      "source": [
        "#naive bayes algorithm\n",
        "from sklearn import naive_bayes\n",
        "#sklearn.naive_bayes.BernoulliNB\n",
        "nbb=naive_bayes.BernoulliNB()\n",
        "nbb.fit(x_train,y_train)\n",
        "pred=nbb.predict(x_test)\n",
        "count = 0\n",
        "#checking predition accuracy\n",
        "a=y_test.values\n",
        "for i in range(len(x_test)):\n",
        "    if pred[i]==a[i]:\n",
        "        count=count+1\n",
        "\n",
        "acc = (count/len(x_test))*100\n",
        "print(\"accuracy:\",acc)"
      ],
      "execution_count": null,
      "outputs": []
    },
    {
      "cell_type": "code",
      "metadata": {
        "id": "i2iBDAvp9RvY",
        "colab_type": "code",
        "colab": {}
      },
      "source": [
        "#naive_bayes.ComplementNB\n",
        "nbc=naive_bayes.ComplementNB()\n",
        "nbc.fit(x_train,y_train)\n",
        "pred=nbc.predict(x_test)\n",
        "count = 0\n",
        "#checking predition accuracy\n",
        "a=y_test.values\n",
        "for i in range(len(x_test)):\n",
        "    if pred[i]==a[i]:\n",
        "        count=count+1\n",
        "\n",
        "acc = (count/len(x_test))*100\n",
        "print(\"accuracy:\",acc)"
      ],
      "execution_count": null,
      "outputs": []
    },
    {
      "cell_type": "code",
      "metadata": {
        "id": "EtU9UtcH779y",
        "colab_type": "code",
        "colab": {}
      },
      "source": [
        "# naive_bayes.CategoricalNB\n",
        "# nbc1=naive_bayes.CategoricalNB()\n",
        "# nbc1.fit(x_train,y_train)\n",
        "# pred=nbc1.predict(x_test)\n",
        "# count = 0\n",
        "# #checking predition accuracy\n",
        "# a=y_test.values\n",
        "# for i in range(len(x_test)):\n",
        "#     if pred[i]==a[i]:\n",
        "#         count=count+1\n",
        "\n",
        "# acc = (count/len(x_test))*100\n",
        "# print(\"accuracy:\",acc)"
      ],
      "execution_count": null,
      "outputs": []
    },
    {
      "cell_type": "code",
      "metadata": {
        "id": "8yBynlS1-64d",
        "colab_type": "code",
        "colab": {}
      },
      "source": [
        "# naive_bayes.GaussianNB()\n",
        "nbg=naive_bayes.GaussianNB()\n",
        "nbg.fit(x_train,y_train)\n",
        "pred=nbg.predict(x_test)\n",
        "count = 0\n",
        "#checking predition accuracy\n",
        "a=y_test.values\n",
        "for i in range(len(x_test)):\n",
        "    if pred[i]==a[i]:\n",
        "        count=count+1\n",
        "\n",
        "acc = (count/len(x_test))*100\n",
        "print(\"accuracy:\",acc)"
      ],
      "execution_count": null,
      "outputs": []
    },
    {
      "cell_type": "code",
      "metadata": {
        "id": "WPob_bTo_ej5",
        "colab_type": "code",
        "colab": {}
      },
      "source": [
        "#naive_bayes.MultinomialNB()\n",
        "# nbm=naive_bayes.MultinomialNB()\n",
        "# nbm.fit(x_test,y_test)\n",
        "# pred=nbm.predict(x_test)\n",
        "# count = 0\n",
        "# #checking predition accuracy\n",
        "# a=y_test.values\n",
        "# for i in range(len(x_test)):\n",
        "#     if pred[i]==a[i]:\n",
        "#         count=count+1\n",
        "\n",
        "# acc = (count/len(x_test))*100\n",
        "# print(\"accuracy:\",acc)"
      ],
      "execution_count": null,
      "outputs": []
    },
    {
      "cell_type": "markdown",
      "metadata": {
        "id": "y6iNI85DCvit",
        "colab_type": "text"
      },
      "source": [
        "# from sklearn import neighbors"
      ]
    },
    {
      "cell_type": "code",
      "metadata": {
        "id": "InfNvfiH_wi3",
        "colab_type": "code",
        "colab": {}
      },
      "source": [
        "# from sklearn import neighbors\n",
        "# #neighbors.KNeighborsClassifier\n",
        "# knc=neighbors.KNeighborsClassifier()\n",
        "# knc.fit(x_train,y_train)\n",
        "# pred=knc.predict(x_test)\n",
        "# count = 0\n",
        "# #checking predition accuracy\n",
        "# a=y_test.values\n",
        "# for i in range(len(x_test)):\n",
        "#     if pred[i]==a[i]:\n",
        "#         count=count+1\n",
        "\n",
        "# acc = (count/len(x_test))*100\n",
        "# print(\"accuracy:\",acc)"
      ],
      "execution_count": null,
      "outputs": []
    },
    {
      "cell_type": "code",
      "metadata": {
        "id": "eqMpa9uHApbx",
        "colab_type": "code",
        "colab": {}
      },
      "source": [
        ""
      ],
      "execution_count": null,
      "outputs": []
    }
  ]
}